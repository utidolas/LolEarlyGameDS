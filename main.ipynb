{
 "cells": [
  {
   "cell_type": "code",
   "execution_count": 1,
   "id": "f26fa8e4-302e-44f9-8ed5-88ebd70dcf5d",
   "metadata": {},
   "outputs": [],
   "source": [
    "import pandas as pd\n",
    "import matplotlib as plt\n",
    "import seaborn as sns\n",
    "import numpy as np"
   ]
  },
  {
   "cell_type": "code",
   "execution_count": 2,
   "id": "3bd27b61-f5cd-4c66-8332-16f5f6a55f11",
   "metadata": {},
   "outputs": [],
   "source": [
    "sns.set_style(\"whitegrid\")\n",
    "data_path = 'Data/final.csv'"
   ]
  },
  {
   "cell_type": "markdown",
   "id": "bb1446b5-16b4-4dc9-8824-b5bbcaa06a96",
   "metadata": {},
   "source": [
    "### Get our data/relevant data"
   ]
  },
  {
   "cell_type": "code",
   "execution_count": 13,
   "id": "34644f05-9d8f-46ad-a6ba-27160111462c",
   "metadata": {
    "scrolled": true
   },
   "outputs": [
    {
     "name": "stdout",
     "output_type": "stream",
     "text": [
      "Data loaded!\n",
      "The dataset contains 94355 matches and 43 columns.\n"
     ]
    },
    {
     "data": {
      "text/plain": [
       "'\\nprint(\"First 5 rows of the raw dataset:\")\\nprint(complete_df.head())\\n'"
      ]
     },
     "execution_count": 13,
     "metadata": {},
     "output_type": "execute_result"
    }
   ],
   "source": [
    "try:\n",
    "    complete_df = pd.read_csv(data_path)\n",
    "    print(\"Data loaded!\")\n",
    "    print(f\"The dataset contains {complete_df.shape[0]} matches and {complete_df.shape[1]} columns.\")\n",
    "    \n",
    "except FileNotFoundError:\n",
    "    print(\"File not found!\")\n",
    "    exit()\n",
    "\n",
    "# Display the first few rows to get a feel for the data\n",
    "'''\n",
    "print(\"\\nFirst 5 rows of the raw dataset:\")\n",
    "print(complete_df.head())\n",
    "'''"
   ]
  },
  {
   "cell_type": "code",
   "execution_count": 4,
   "id": "afd9e0a0-7b2f-4e43-b382-f5cc34e15e74",
   "metadata": {
    "collapsed": true,
    "jupyter": {
     "outputs_hidden": true
    },
    "scrolled": true
   },
   "outputs": [
    {
     "name": "stdout",
     "output_type": "stream",
     "text": [
      "\n",
      "First 5 rows of our focused 'early_game_df':\n",
      "   blueWins  blueFirstBlood  blueFirstTurret  blueFirstDragon  blueHeralds  \\\n",
      "0         1               1                0                0            0   \n",
      "1         1               1                0                1            0   \n",
      "2         1               1                0                1            1   \n",
      "3         0               0                0                0            0   \n",
      "4         1               1                1                0            0   \n",
      "\n",
      "   blueVoidGrubs  bluePlatesDestroyed  redPlatesDestroyed  blueTotalGold  \\\n",
      "0              2                   10                   3          26801   \n",
      "1              5                    5                   4          25584   \n",
      "2              6                    8                   2          25930   \n",
      "3              3                    9                   6          28190   \n",
      "4              6                   13                   1          31288   \n",
      "\n",
      "   redTotalGold  \n",
      "0         29411  \n",
      "1         24827  \n",
      "2         28200  \n",
      "3         31584  \n",
      "4         27239  \n"
     ]
    }
   ],
   "source": [
    "# relevant data columns\n",
    "columns_to_read = [\n",
    "    'blueWins',\n",
    "    'blueFirstBlood',\n",
    "    'blueFirstTurret',\n",
    "    'blueFirstDragon',\n",
    "    'blueHeralds',\n",
    "    'blueVoidGrubs',\n",
    "    'bluePlatesDestroyed',\n",
    "    'redPlatesDestroyed',\n",
    "    'blueTotalGold', \n",
    "    'redTotalGold'\n",
    "]\n",
    "\n",
    "# create a new DataFrame for early game values\n",
    "early_game_df = complete_df[columns_to_read].copy()\n",
    "\n",
    "# print dataset\n",
    "print(\"\\nFirst 5 rows of our focused 'early_game_df':\")\n",
    "print(early_game_df.head())"
   ]
  },
  {
   "cell_type": "markdown",
   "id": "34fa80c0-cd07-4316-bce2-e0e6b4a8fc31",
   "metadata": {},
   "source": [
    "### Analyzing First Blood distribution"
   ]
  },
  {
   "cell_type": "code",
   "execution_count": 12,
   "id": "4eeb0325-507b-47ab-8584-ef3bad3457b7",
   "metadata": {},
   "outputs": [
    {
     "name": "stdout",
     "output_type": "stream",
     "text": [
      "BLUE side gets First Blood: 49.44% of the time\n",
      "RED side gets First Blood: 50.56% of the time\n"
     ]
    }
   ],
   "source": [
    "'''\n",
    "- return the values of FirstBloods in percentage (0...1) with \"normalize=True\" \n",
    "- output ex.: 0.5   \n",
    "- multiply by 100 to get it in correct format ex.: 50\n",
    "- valuecounts() returns a pandas Series ex.:\n",
    " ValueA 0.5\n",
    " ValueB 0.24\n",
    " ValueC 0.26\n",
    "'''\n",
    "fb_counts = early_game_df['blueFirstBlood'].value_counts(normalize=True) * 100\n",
    "\n",
    "# :.2f to return two decimals\n",
    "# [0] indicates the value of 0 in the dataset, not the index. As well as [1]\n",
    "print(f\"BLUE side gets First Blood: {fb_counts[1]:.2f}% of the time\")\n",
    "print(f\"RED side gets First Blood: {fb_counts[0]:.2f}% of the time\")"
   ]
  },
  {
   "cell_type": "code",
   "execution_count": null,
   "id": "ba90a2a3-b426-4b30-8570-a406b46275e3",
   "metadata": {},
   "outputs": [],
   "source": [
    "# analyze impact of First Blood on Winning\n",
    "'''\n",
    "- groupby()\n",
    "- mean()\n",
    "'''"
   ]
  }
 ],
 "metadata": {
  "kernelspec": {
   "display_name": "Python 3 (ipykernel)",
   "language": "python",
   "name": "python3"
  },
  "language_info": {
   "codemirror_mode": {
    "name": "ipython",
    "version": 3
   },
   "file_extension": ".py",
   "mimetype": "text/x-python",
   "name": "python",
   "nbconvert_exporter": "python",
   "pygments_lexer": "ipython3",
   "version": "3.13.7"
  }
 },
 "nbformat": 4,
 "nbformat_minor": 5
}
