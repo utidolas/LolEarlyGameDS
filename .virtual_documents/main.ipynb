import pandas as pd
import matplotlib as plt
import seaborn as sns
import numpy as np





try:
    early_game_df = pd.read_csv(data_path, usecols=columns_to_read)
    print("'Data loaded!'")
except FileNotFoundError:
    print("File not found!")


columns_to_read = [
    'blueWin',
    'blueFirstBlood',
    'blueFirstTurret',
    'blueFirstDragon',
    'blueHeralds',
    'blueVoidGrubs',
    'blueTowersDestroyed', # We'll use this to calculate plates later
    'redTowersDestroyed',
    'blueTotalGold', # Useful for context
    'redTotalGold'
]



