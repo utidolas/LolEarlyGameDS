{
 "cells": [
  {
   "cell_type": "code",
   "execution_count": 23,
   "id": "f26fa8e4-302e-44f9-8ed5-88ebd70dcf5d",
   "metadata": {},
   "outputs": [],
   "source": [
    "import pandas as pd\n",
    "import matplotlib as plt\n",
    "import seaborn as sns\n",
    "import numpy as np"
   ]
  },
  {
   "cell_type": "code",
   "execution_count": 24,
   "id": "3bd27b61-f5cd-4c66-8332-16f5f6a55f11",
   "metadata": {},
   "outputs": [],
   "source": [
    "sns.set_style(\"whitegrid\")\n",
    "data_path = 'Data/final.csv'"
   ]
  },
  {
   "cell_type": "markdown",
   "id": "bb1446b5-16b4-4dc9-8824-b5bbcaa06a96",
   "metadata": {},
   "source": [
    "### Get our data/relevant data"
   ]
  },
  {
   "cell_type": "code",
   "execution_count": 25,
   "id": "34644f05-9d8f-46ad-a6ba-27160111462c",
   "metadata": {
    "scrolled": true
   },
   "outputs": [
    {
     "name": "stdout",
     "output_type": "stream",
     "text": [
      "Data loaded!\n",
      "The dataset contains 94355 matches and 43 columns.\n"
     ]
    },
    {
     "data": {
      "text/plain": [
       "'\\nprint(\"\\nFirst 5 rows of the raw dataset:\")\\nprint(complete_df.head())\\n'"
      ]
     },
     "execution_count": 25,
     "metadata": {},
     "output_type": "execute_result"
    }
   ],
   "source": [
    "try:\n",
    "    complete_df = pd.read_csv(data_path)\n",
    "    print(\"Data loaded!\")\n",
    "    print(f\"The dataset contains {complete_df.shape[0]} matches and {complete_df.shape[1]} columns.\")\n",
    "    \n",
    "except FileNotFoundError:\n",
    "    print(\"File not found!\")\n",
    "    exit()\n",
    "\n",
    "# Display the first few rows to get a feel for the data\n",
    "'''\n",
    "print(\"\\nFirst 5 rows of the raw dataset:\")\n",
    "print(complete_df.head())\n",
    "'''"
   ]
  },
  {
   "cell_type": "code",
   "execution_count": 26,
   "id": "afd9e0a0-7b2f-4e43-b382-f5cc34e15e74",
   "metadata": {
    "scrolled": true
   },
   "outputs": [
    {
     "name": "stdout",
     "output_type": "stream",
     "text": [
      "\n",
      "First 5 rows of our focused 'early_game_df':\n",
      "   blueWins  blueFirstBlood  blueFirstTurret  blueFirstDragon  blueHeralds  \\\n",
      "0         1               1                0                0            0   \n",
      "1         1               1                0                1            0   \n",
      "2         1               1                0                1            1   \n",
      "3         0               0                0                0            0   \n",
      "4         1               1                1                0            0   \n",
      "\n",
      "   blueVoidGrubs  bluePlatesDestroyed  redPlatesDestroyed  blueTotalGold  \\\n",
      "0              2                   10                   3          26801   \n",
      "1              5                    5                   4          25584   \n",
      "2              6                    8                   2          25930   \n",
      "3              3                    9                   6          28190   \n",
      "4              6                   13                   1          31288   \n",
      "\n",
      "   redTotalGold  \n",
      "0         29411  \n",
      "1         24827  \n",
      "2         28200  \n",
      "3         31584  \n",
      "4         27239  \n"
     ]
    }
   ],
   "source": [
    "# relevant data columns\n",
    "columns_to_read = [\n",
    "    'blueWins',\n",
    "    'blueFirstBlood',\n",
    "    'blueFirstTurret',\n",
    "    'blueFirstDragon',\n",
    "    'blueHeralds',\n",
    "    'blueVoidGrubs',\n",
    "    'bluePlatesDestroyed',\n",
    "    'redPlatesDestroyed',\n",
    "    'blueTotalGold', \n",
    "    'redTotalGold'\n",
    "]\n",
    "\n",
    "# create a new DataFrame for early game values\n",
    "early_game_df = complete_df[columns_to_read].copy()\n",
    "\n",
    "# print dataset\n",
    "print(\"\\nFirst 5 rows of our focused 'early_game_df':\")\n",
    "print(early_game_df.head())"
   ]
  },
  {
   "cell_type": "markdown",
   "id": "34fa80c0-cd07-4316-bce2-e0e6b4a8fc31",
   "metadata": {},
   "source": [
    "### Analyzing First Blood distribution"
   ]
  },
  {
   "cell_type": "code",
   "execution_count": 27,
   "id": "4eeb0325-507b-47ab-8584-ef3bad3457b7",
   "metadata": {},
   "outputs": [
    {
     "name": "stdout",
     "output_type": "stream",
     "text": [
      "BLUE side gets First Blood: 49.44% of the time\n",
      "RED side gets First Blood: 50.56% of the time\n"
     ]
    }
   ],
   "source": [
    "'''\n",
    "- return the values of FirstBloods in percentage (0...1) with \"normalize=True\" \n",
    "- output ex.: 0.5   \n",
    "- multiply by 100 to get it in correct format ex.: 50\n",
    "- valuecounts() returns a pandas Series ex.:\n",
    " ValueA 0.5\n",
    " ValueB 0.24\n",
    " ValueC 0.26\n",
    "'''\n",
    "fb_counts = early_game_df['blueFirstBlood'].value_counts(normalize=True) * 100\n",
    "\n",
    "# :.2f to return two decimals\n",
    "# [0] indicates the value of 0 in the dataset, not the index. As well as [1]\n",
    "print(f\"BLUE side gets First Blood: {fb_counts[1]:.2f}% of the time\")\n",
    "print(f\"RED side gets First Blood: {fb_counts[0]:.2f}% of the time\")"
   ]
  },
  {
   "cell_type": "code",
   "execution_count": 42,
   "id": "ba90a2a3-b426-4b30-8570-a406b46275e3",
   "metadata": {},
   "outputs": [
    {
     "name": "stdout",
     "output_type": "stream",
     "text": [
      "\n",
      "Win rate when BLUE gets First Blood: 54.97%\n",
      "Win rate when BLUE DOES NOT get First Blood: 37.93%\n"
     ]
    },
    {
     "data": {
      "image/png": "[encoded data removed]",
      "text/plain": [
       "<Figure size 640x480 with 1 Axes>"
      ]
     },
     "metadata": {},
     "output_type": "display_data"
    }
   ],
   "source": [
    "# analyze impact of First Blood on Winning\n",
    "'''\n",
    "- groupby(): split df into groups -- we take 'blueFirstBlood' and 'blueWins'\n",
    "columns and use mean() to compute the average value of each group. \n",
    "- multiply by 100 because we normalized our data previously (it'll return\n",
    "a percentage from 0 to 1)\n",
    "'''\n",
    "win_rate_fb = early_game_df.groupby('blueFirstBlood')['blueWins'].mean() * 100\n",
    "\n",
    "print(f\"\\nWin rate when BLUE gets First Blood: {win_rate_fb[1]:.2f}%\")\n",
    "print(f\"Win rate when BLUE DOES NOT get First Blood: {win_rate_fb[0]:.2f}%\")\n",
    "\n",
    "# plot\n",
    "\n",
    "plt.figure.Figure(figsize=(8, 6))\n",
    "sns.barplot(x=win_rate_fb.index,hue=win_rate_fb ,y=win_rate_fb.values, palette=['red', 'blue'])\n",
    "plt.pyplot.title('Blue Side Win Rate by First Blood', fontsize=16)\n",
    "plt.pyplot.ylabel('Blue Team Win Rate (%)', fontsize=12)\n",
    "plt.pyplot.xlabel('blueFirstBlood (0 = Red, 1 = Blue)', fontsize=12)\n",
    "plt.pyplot.xticks([0, 1], ['Red Side FB', 'Blue Side FB'])\n",
    "plt.pyplot.ylim(0, 100)\n",
    "plt.pyplot.show()"
   ]
  },
  {
   "cell_type": "markdown",
   "id": "9966439c-0012-4d6c-a988-937fadfe045c",
   "metadata": {},
   "source": [
    "### First Tower and First Dragon"
   ]
  },
  {
   "cell_type": "code",
   "execution_count": null,
   "id": "1dfc21f6-6db0-42ef-93ba-3b510e9a5a46",
   "metadata": {},
   "outputs": [],
   "source": [
    "def analyze_objective_winrate(df, objective_col, objective_name):\n",
    "    print(f\"=== Analysis for {objective_name} ===\")\n",
    "\n",
    "    # Distribution\n",
    "    counts = df[objective_col].value_counts(normalize=True) * 100\n",
    "    print(f\"Blue side gets {objective_name}: {counts[1]:.2f}%\")\n",
    "    print(f\"Red side gets {objective_name}: {counts[0]:.2f}%\")\n",
    "\n",
    "    # Win Rate Impact"
   ]
  }
 ],
 "metadata": {
  "kernelspec": {
   "display_name": "Python 3 (ipykernel)",
   "language": "python",
   "name": "python3"
  },
  "language_info": {
   "codemirror_mode": {
    "name": "ipython",
    "version": 3
   },
   "file_extension": ".py",
   "mimetype": "text/x-python",
   "name": "python",
   "nbconvert_exporter": "python",
   "pygments_lexer": "ipython3",
   "version": "3.13.7"
  }
 },
 "nbformat": 4,
 "nbformat_minor": 5
}
