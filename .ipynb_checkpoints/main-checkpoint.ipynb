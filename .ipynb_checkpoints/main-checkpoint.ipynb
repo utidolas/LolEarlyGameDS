{
 "cells": [
  {
   "cell_type": "code",
   "execution_count": 21,
   "id": "f26fa8e4-302e-44f9-8ed5-88ebd70dcf5d",
   "metadata": {},
   "outputs": [],
   "source": [
    "import pandas as pd\n",
    "import matplotlib as plt\n",
    "import seaborn as sns\n",
    "import numpy as np"
   ]
  },
  {
   "cell_type": "code",
   "execution_count": 22,
   "id": "3bd27b61-f5cd-4c66-8332-16f5f6a55f11",
   "metadata": {},
   "outputs": [],
   "source": [
    "sns.set_style(\"whitegrid\")\n",
    "data_path = 'Data/final.csv'"
   ]
  },
  {
   "cell_type": "code",
   "execution_count": 23,
   "id": "34644f05-9d8f-46ad-a6ba-27160111462c",
   "metadata": {
    "collapsed": true,
    "jupyter": {
     "outputs_hidden": true
    },
    "scrolled": true
   },
   "outputs": [
    {
     "name": "stdout",
     "output_type": "stream",
     "text": [
      "Data loaded!\n",
      "The dataset contains 94355 matches and 43 columns.\n",
      "\n",
      "First 5 rows of the raw dataset:\n",
      "         matchId  blueWins  blueWardsPlaced  blueControlWardsPlaced  \\\n",
      "0  KR_7103467251         1               43                       9   \n",
      "1  KR_7029911546         1               36                      11   \n",
      "2  KR_7077250839         1               33                      11   \n",
      "3  KR_7101806500         0               28                       5   \n",
      "4  KR_7099122531         1               29                       7   \n",
      "\n",
      "   blueWardsDestroyed  blueControlWardsDestroyed  blueFirstBlood  blueKills  \\\n",
      "0                  10                          3               1         12   \n",
      "1                   5                          3               1          8   \n",
      "2                   6                          2               1         10   \n",
      "3                   8                          5               0         14   \n",
      "4                   6                          5               1         14   \n",
      "\n",
      "   blueDeaths  blueAssists  ...  redTowersDestroyed  redPlatesDestroyed  \\\n",
      "0          15           14  ...                   1                   3   \n",
      "1           5            9  ...                   0                   4   \n",
      "2          14            6  ...                   1                   2   \n",
      "3          23            9  ...                   1                   6   \n",
      "4          13           19  ...                   0                   1   \n",
      "\n",
      "   redTotalGold  redTotalExperience  redTotalMinionsKilled  \\\n",
      "0         29411               30691                    349   \n",
      "1         24827               30167                    403   \n",
      "2         28200               29638                    341   \n",
      "3         31584               31717                    355   \n",
      "4         27239               29741                    340   \n",
      "\n",
      "   redTotalJungleMinionsKilled  redFirstTurret  redInhibitorsDestroyed  \\\n",
      "0                          103               1                       0   \n",
      "1                          106               0                       0   \n",
      "2                          100               1                       0   \n",
      "3                           82               1                       0   \n",
      "4                           84               0                       0   \n",
      "\n",
      "   redFirstDragon  gameDuration  \n",
      "0               1      2343.847  \n",
      "1               0      1939.513  \n",
      "2               0      1553.700  \n",
      "3               1      2213.758  \n",
      "4               1      1470.118  \n",
      "\n",
      "[5 rows x 43 columns]\n"
     ]
    }
   ],
   "source": [
    "try:\n",
    "    complete_df = pd.read_csv(data_path)\n",
    "    print(\"Data loaded!\")\n",
    "    print(f\"The dataset contains {complete_df.shape[0]} matches and {complete_df.shape[1]} columns.\")\n",
    "    \n",
    "except FileNotFoundError:\n",
    "    print(\"File not found!\")\n",
    "    exit()\n",
    "\n",
    "# Display the first few rows to get a feel for the data\n",
    "print(\"\\nFirst 5 rows of the raw dataset:\")\n",
    "print(complete_df.head())"
   ]
  },
  {
   "cell_type": "code",
   "execution_count": 25,
   "id": "afd9e0a0-7b2f-4e43-b382-f5cc34e15e74",
   "metadata": {},
   "outputs": [],
   "source": [
    "columns_to_read = [\n",
    "    'blueWins',\n",
    "    'blueFirstBlood',\n",
    "    'blueFirstTurret',\n",
    "    'blueFirstDragon',\n",
    "    'blueHeralds',\n",
    "    'blueVoidGrubs',\n",
    "    'bluePlatesDestroyed', # We'll use this to calculate plates later\n",
    "    'redPlatesDestroyed',\n",
    "    'blueTotalGold', # Useful for context\n",
    "    'redTotalGold'\n",
    "]\n",
    "\n",
    "# create a new DataFrame for early game values\n",
    "early_game_df = complete_df[columns_to_read].copy()"
   ]
  },
  {
   "cell_type": "code",
   "execution_count": null,
   "id": "482768ef-88e7-4b34-89cb-9cd5f9e1c0f8",
   "metadata": {},
   "outputs": [],
   "source": []
  }
 ],
 "metadata": {
  "kernelspec": {
   "display_name": "Python 3 (ipykernel)",
   "language": "python",
   "name": "python3"
  },
  "language_info": {
   "codemirror_mode": {
    "name": "ipython",
    "version": 3
   },
   "file_extension": ".py",
   "mimetype": "text/x-python",
   "name": "python",
   "nbconvert_exporter": "python",
   "pygments_lexer": "ipython3",
   "version": "3.12.7"
  }
 },
 "nbformat": 4,
 "nbformat_minor": 5
}
